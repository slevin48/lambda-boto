{
 "metadata": {
  "language_info": {
   "codemirror_mode": {
    "name": "ipython",
    "version": 3
   },
   "file_extension": ".py",
   "mimetype": "text/x-python",
   "name": "python",
   "nbconvert_exporter": "python",
   "pygments_lexer": "ipython3",
   "version": "3.7.6-final"
  },
  "orig_nbformat": 2,
  "kernelspec": {
   "name": "python3",
   "display_name": "Python 3",
   "language": "python"
  }
 },
 "nbformat": 4,
 "nbformat_minor": 2,
 "cells": [
  {
   "source": [
    "# Save Weather to S3\n",
    "\n",
    "https://realpython.com/python-boto3-aws-s3/"
   ],
   "cell_type": "markdown",
   "metadata": {}
  },
  {
   "cell_type": "code",
   "execution_count": 1,
   "metadata": {},
   "outputs": [],
   "source": [
    "import boto3\n",
    "\n",
    "# Let's use Amazon S3\n",
    "s3 = boto3.resource('s3')"
   ]
  },
  {
   "cell_type": "code",
   "execution_count": 2,
   "metadata": {},
   "outputs": [
    {
     "output_type": "stream",
     "name": "stdout",
     "text": [
      "diigo-knowledge-graph\nself-driving-dataset\nzappa-d5a55jhy6\nzappa-vmtqkljq3\n"
     ]
    }
   ],
   "source": [
    "# Print out bucket names\n",
    "for bucket in s3.buckets.all():\n",
    "    print(bucket.name)"
   ]
  },
  {
   "cell_type": "code",
   "execution_count": 3,
   "metadata": {},
   "outputs": [
    {
     "output_type": "stream",
     "name": "stdout",
     "text": [
      "diigo.ipynb\ndiigo_csv_2015_01_11.csv\ndiigo_csv_2020_10_05.csv\n"
     ]
    }
   ],
   "source": [
    "diigo = s3.Bucket('diigo-knowledge-graph')\n",
    "\n",
    "for file in diigo.objects.all():\n",
    "    print(file.key)"
   ]
  },
  {
   "cell_type": "code",
   "execution_count": 4,
   "metadata": {},
   "outputs": [
    {
     "output_type": "stream",
     "name": "stdout",
     "text": [
      "test\ntest.txt\ntest2.txt\n"
     ]
    }
   ],
   "source": [
    "zappa = s3.Bucket(\"zappa-d5a55jhy6\")\n",
    "\n",
    "for file in zappa.objects.all():\n",
    "    print(file.key)"
   ]
  },
  {
   "source": [
    "## Upload a file to an S3 bucket\n",
    "\n",
    "    :param file_name: File to upload\n",
    "    :param bucket: Bucket to upload to\n",
    "    :param object_name: S3 object name. If not specified then file_name is used\n",
    "    \n",
    "https://boto3.amazonaws.com/v1/documentation/api/latest/guide/s3-uploading-files.html"
   ],
   "cell_type": "markdown",
   "metadata": {}
  },
  {
   "cell_type": "code",
   "execution_count": 5,
   "metadata": {},
   "outputs": [],
   "source": [
    "data = open('test.txt', 'w+',encoding='utf-8')"
   ]
  },
  {
   "cell_type": "code",
   "execution_count": 6,
   "metadata": {},
   "outputs": [],
   "source": [
    "s3_client = boto3.client('s3')\n",
    "file_name = \"test.txt\"\n",
    "bucket = \"zappa-d5a55jhy6\"\n",
    "# s3_client.upload_file(file_name,bucket,Key=\"test\")\n",
    "# s3_client.upload_file(file_name, bucket, object_name)"
   ]
  },
  {
   "cell_type": "code",
   "execution_count": 7,
   "metadata": {},
   "outputs": [],
   "source": [
    "s3_client.upload_file('test2.txt', \"zappa-d5a55jhy6\", 'test2.txt')"
   ]
  },
  {
   "cell_type": "code",
   "execution_count": 8,
   "metadata": {},
   "outputs": [],
   "source": [
    "# with open('test2.txt', 'r',encoding='utf-8') as f:\n",
    "#     s3_client.upload_fileobj(f, 'zappa-d5a55jhy6', 'test2.txt')"
   ]
  },
  {
   "cell_type": "code",
   "execution_count": null,
   "metadata": {},
   "outputs": [],
   "source": [
    "# zappa.put_object(Filename='test.txt',Key='test.txt')"
   ]
  },
  {
   "source": [
    "## Download File"
   ],
   "cell_type": "markdown",
   "metadata": {}
  },
  {
   "cell_type": "code",
   "execution_count": 9,
   "metadata": {},
   "outputs": [],
   "source": [
    "import boto3\n",
    "# https://boto3.amazonaws.com/v1/documentation/api/latest/guide/s3-example-download-file.html\n",
    "s3_client = boto3.client('s3')\n",
    "# s3.download_file('BUCKET_NAME', 'OBJECT_NAME', 'FILE_NAME')\n",
    "s3_client.download_file('zappa-d5a55jhy6', 'test2.txt','test2.txt')"
   ]
  },
  {
   "cell_type": "code",
   "execution_count": 10,
   "metadata": {},
   "outputs": [
    {
     "output_type": "stream",
     "name": "stdout",
     "text": [
      "test2\n"
     ]
    }
   ],
   "source": [
    "with open('test2.txt') as f:\n",
    "    print(f.read())"
   ]
  },
  {
   "cell_type": "code",
   "execution_count": 11,
   "metadata": {},
   "outputs": [],
   "source": [
    "with open('test2b.txt', 'wb') as f:\n",
    "    s3_client.download_fileobj('zappa-d5a55jhy6', 'test2.txt', f)"
   ]
  },
  {
   "cell_type": "code",
   "execution_count": 12,
   "metadata": {},
   "outputs": [
    {
     "output_type": "stream",
     "name": "stdout",
     "text": [
      "test2\n"
     ]
    }
   ],
   "source": [
    "with open('test2b.txt') as f:\n",
    "    print(f.read())"
   ]
  },
  {
   "source": [
    "## Weather API"
   ],
   "cell_type": "markdown",
   "metadata": {}
  },
  {
   "cell_type": "code",
   "execution_count": 27,
   "metadata": {},
   "outputs": [
    {
     "output_type": "execute_result",
     "data": {
      "text/plain": [
       "'200'"
      ]
     },
     "metadata": {},
     "execution_count": 27
    }
   ],
   "source": [
    "import requests as rq\n",
    "import json\n",
    "r = rq.get(\"https://samples.openweathermap.org/data/2.5/forecast?lat=0&lon=0&appid=xxx\")\n",
    "w = r.json()\n",
    "w['cod']"
   ]
  },
  {
   "cell_type": "code",
   "execution_count": 30,
   "metadata": {},
   "outputs": [
    {
     "output_type": "execute_result",
     "data": {
      "text/plain": [
       "{'dt': 1485799200,\n",
       " 'main': {'temp': 283.76,\n",
       "  'temp_min': 283.76,\n",
       "  'temp_max': 283.761,\n",
       "  'pressure': 1017.24,\n",
       "  'sea_level': 1026.83,\n",
       "  'grnd_level': 1017.24,\n",
       "  'humidity': 100,\n",
       "  'temp_kf': 0},\n",
       " 'weather': [{'id': 800,\n",
       "   'main': 'Clear',\n",
       "   'description': 'clear sky',\n",
       "   'icon': '01n'}],\n",
       " 'clouds': {'all': 0},\n",
       " 'wind': {'speed': 7.27, 'deg': 15.0048},\n",
       " 'rain': {},\n",
       " 'sys': {'pod': 'n'},\n",
       " 'dt_txt': '2017-01-30 18:00:00'}"
      ]
     },
     "metadata": {},
     "execution_count": 30
    }
   ],
   "source": [
    "l = w['list']\n",
    "l[0]"
   ]
  },
  {
   "cell_type": "code",
   "execution_count": 32,
   "metadata": {},
   "outputs": [
    {
     "output_type": "execute_result",
     "data": {
      "text/plain": [
       "283.76"
      ]
     },
     "metadata": {},
     "execution_count": 32
    }
   ],
   "source": [
    "l[0]['main']['temp']"
   ]
  },
  {
   "cell_type": "code",
   "execution_count": 34,
   "metadata": {},
   "outputs": [
    {
     "output_type": "execute_result",
     "data": {
      "text/plain": [
       "[283.76,\n",
       " 282.56,\n",
       " 282.3,\n",
       " 282.27,\n",
       " 282.656,\n",
       " 282.783,\n",
       " 283.335,\n",
       " 284.657,\n",
       " 284.095,\n",
       " 283.211,\n",
       " 284.179,\n",
       " 284.829,\n",
       " 285.702,\n",
       " 285.494,\n",
       " 285.16,\n",
       " 284.161,\n",
       " 282.63,\n",
       " 281.856,\n",
       " 281.978,\n",
       " 283.706,\n",
       " 285.125,\n",
       " 284.755,\n",
       " 283.765,\n",
       " 283.809,\n",
       " 283.788,\n",
       " 283.569,\n",
       " 284.11,\n",
       " 285.034,\n",
       " 286.158,\n",
       " 286.138,\n",
       " 285.952,\n",
       " 285.828,\n",
       " 285.168,\n",
       " 283.818,\n",
       " 283.157,\n",
       " 283.494,\n",
       " 285.263,\n",
       " 285.927,\n",
       " 285.906,\n",
       " 285.51]"
      ]
     },
     "metadata": {},
     "execution_count": 34
    }
   ],
   "source": [
    "[o['main']['temp'] for o in l]"
   ]
  },
  {
   "cell_type": "code",
   "execution_count": 1,
   "metadata": {},
   "outputs": [],
   "source": [
    "with open('api_key.txt') as f:\n",
    "    api_key = f.read()"
   ]
  },
  {
   "cell_type": "code",
   "execution_count": 43,
   "metadata": {},
   "outputs": [
    {
     "output_type": "execute_result",
     "data": {
      "text/plain": [
       "3.17"
      ]
     },
     "metadata": {},
     "execution_count": 43
    }
   ],
   "source": [
    "r = rq.get(\"https://api.openweathermap.org/data/2.5/weather?q=Paris&units=metric&appid=\"+api_key)\n",
    "temp = r.json()['main']['temp']\n",
    "temp"
   ]
  },
  {
   "cell_type": "code",
   "execution_count": 3,
   "metadata": {},
   "outputs": [
    {
     "output_type": "execute_result",
     "data": {
      "text/plain": [
       "2.77"
      ]
     },
     "metadata": {},
     "execution_count": 3
    }
   ],
   "source": [
    "import weather\n",
    "\n",
    "temp = weather.get_paris_temp(api_key)\n",
    "temp"
   ]
  },
  {
   "cell_type": "code",
   "execution_count": 5,
   "metadata": {},
   "outputs": [],
   "source": [
    "with open(\"weather.txt\", \"w\") as f:\n",
    "    f.write(str(temp))"
   ]
  },
  {
   "cell_type": "code",
   "execution_count": 13,
   "metadata": {},
   "outputs": [
    {
     "output_type": "stream",
     "name": "stdout",
     "text": [
      "2021-01-03 11:47:45.207776\n"
     ]
    }
   ],
   "source": [
    "import datetime\n",
    "t = datetime.datetime.now()\n",
    "print(t)\n",
    "# t.strftime(\"%X\")"
   ]
  },
  {
   "cell_type": "code",
   "execution_count": 14,
   "metadata": {},
   "outputs": [
    {
     "output_type": "error",
     "ename": "OSError",
     "evalue": "[Errno 22] Invalid argument: '2021-01-03 11:48:45.418960.txt'",
     "traceback": [
      "\u001b[1;31m---------------------------------------------------------------------------\u001b[0m",
      "\u001b[1;31mOSError\u001b[0m                                   Traceback (most recent call last)",
      "\u001b[1;32m<ipython-input-14-6d88c1fe8cfe>\u001b[0m in \u001b[0;36m<module>\u001b[1;34m\u001b[0m\n\u001b[0;32m      1\u001b[0m \u001b[0mt\u001b[0m \u001b[1;33m=\u001b[0m \u001b[0mdatetime\u001b[0m\u001b[1;33m.\u001b[0m\u001b[0mdatetime\u001b[0m\u001b[1;33m.\u001b[0m\u001b[0mnow\u001b[0m\u001b[1;33m(\u001b[0m\u001b[1;33m)\u001b[0m\u001b[1;33m\u001b[0m\u001b[1;33m\u001b[0m\u001b[0m\n\u001b[1;32m----> 2\u001b[1;33m \u001b[1;32mwith\u001b[0m \u001b[0mopen\u001b[0m\u001b[1;33m(\u001b[0m\u001b[0mstr\u001b[0m\u001b[1;33m(\u001b[0m\u001b[0mt\u001b[0m\u001b[1;33m)\u001b[0m\u001b[1;33m+\u001b[0m\u001b[1;34m\".txt\"\u001b[0m\u001b[1;33m,\u001b[0m \u001b[1;34m\"w\"\u001b[0m\u001b[1;33m)\u001b[0m \u001b[1;32mas\u001b[0m \u001b[0mf\u001b[0m\u001b[1;33m:\u001b[0m\u001b[1;33m\u001b[0m\u001b[1;33m\u001b[0m\u001b[0m\n\u001b[0m\u001b[0;32m      3\u001b[0m     \u001b[0mf\u001b[0m\u001b[1;33m.\u001b[0m\u001b[0mwrite\u001b[0m\u001b[1;33m(\u001b[0m\u001b[0mstr\u001b[0m\u001b[1;33m(\u001b[0m\u001b[0mtemp\u001b[0m\u001b[1;33m)\u001b[0m\u001b[1;33m)\u001b[0m\u001b[1;33m\u001b[0m\u001b[1;33m\u001b[0m\u001b[0m\n",
      "\u001b[1;31mOSError\u001b[0m: [Errno 22] Invalid argument: '2021-01-03 11:48:45.418960.txt'"
     ]
    }
   ],
   "source": [
    "t = datetime.datetime.now()\n",
    "with open(str(t)+\".txt\", \"w\") as f:\n",
    "    f.write(str(temp))"
   ]
  },
  {
   "source": [
    "## Call Flask app locally"
   ],
   "cell_type": "markdown",
   "metadata": {}
  },
  {
   "cell_type": "code",
   "execution_count": 15,
   "metadata": {},
   "outputs": [
    {
     "output_type": "stream",
     "name": "stderr",
     "text": [
      "Acc�s refus�.\n"
     ]
    }
   ],
   "source": [
    "!export FLASK_APP = app.py\n",
    "!flask run"
   ]
  },
  {
   "cell_type": "code",
   "execution_count": 20,
   "metadata": {},
   "outputs": [
    {
     "output_type": "execute_result",
     "data": {
      "text/plain": [
       "(200, 'weather.txt created: 2.55 °C in Paris')"
      ]
     },
     "metadata": {},
     "execution_count": 20
    }
   ],
   "source": [
    "import requests as rq\n",
    "r = rq.get(\"http://127.0.0.1:5000/write/\")\n",
    "r.status_code,r.text"
   ]
  },
  {
   "source": [
    "## Deployed with Zappa"
   ],
   "cell_type": "markdown",
   "metadata": {}
  },
  {
   "cell_type": "code",
   "execution_count": 30,
   "metadata": {},
   "outputs": [
    {
     "output_type": "execute_result",
     "data": {
      "text/plain": [
       "(500,\n",
       " '<!DOCTYPE HTML PUBLIC \"-//W3C//DTD HTML 3.2 Final//EN\">\\n<title>500 Internal Server Error</title>\\n<h1>Internal Server Error</h1>\\n<p>The server encountered an internal error and was unable to complete your request. Either the server is overloaded or there is an error in the application.</p>\\n')"
      ]
     },
     "metadata": {},
     "execution_count": 30
    }
   ],
   "source": [
    "import requests as rq\n",
    "r = rq.get(\"https://dgpt7b34uf.execute-api.us-east-1.amazonaws.com/dev/write/\")\n",
    "r.status_code,r.text"
   ]
  }
 ]
}