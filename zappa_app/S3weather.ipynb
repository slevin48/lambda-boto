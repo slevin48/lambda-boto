{
 "metadata": {
  "language_info": {
   "codemirror_mode": {
    "name": "ipython",
    "version": 3
   },
   "file_extension": ".py",
   "mimetype": "text/x-python",
   "name": "python",
   "nbconvert_exporter": "python",
   "pygments_lexer": "ipython3",
   "version": "3.7.6"
  },
  "orig_nbformat": 2,
  "kernelspec": {
   "name": "python3",
   "display_name": "Python 3.7.6 64-bit ('zappa': venv)"
  },
  "interpreter": {
   "hash": "4739dcc09b59e1220e7f316b86b252ee0d632b485cd3bc0ccb6c75c218242c65"
  }
 },
 "nbformat": 4,
 "nbformat_minor": 2,
 "cells": [
  {
   "cell_type": "markdown",
   "source": [
    "# Save Weather to S3\n",
    "\n",
    "https://realpython.com/python-boto3-aws-s3/"
   ],
   "metadata": {}
  },
  {
   "cell_type": "code",
   "execution_count": 1,
   "source": [
    "import boto3\r\n",
    "\r\n",
    "# Let's use Amazon S3\r\n",
    "s3 = boto3.resource('s3')"
   ],
   "outputs": [],
   "metadata": {}
  },
  {
   "cell_type": "code",
   "execution_count": 2,
   "source": [
    "# Print out bucket names\r\n",
    "for bucket in s3.buckets.all():\r\n",
    "    print(bucket.name)"
   ],
   "outputs": [
    {
     "output_type": "stream",
     "name": "stdout",
     "text": [
      "aiworkflow\n",
      "diigo-knowledge-graph\n",
      "matlab2020b\n",
      "self-driving-dataset\n",
      "zappa-3czvv42gy\n",
      "zappa-54ckqvw8t\n",
      "zappa-d5a55jhy6\n",
      "zappa-pn076q184\n",
      "zappa-ri494sdm2\n",
      "zappa-w6lpl9cl0\n"
     ]
    }
   ],
   "metadata": {}
  },
  {
   "cell_type": "code",
   "execution_count": 3,
   "source": [
    "zappa = s3.Bucket(\"zappa-w6lpl9cl0\")\r\n",
    "\r\n",
    "for file in zappa.objects.all():\r\n",
    "    print(file.key)"
   ],
   "outputs": [],
   "metadata": {}
  },
  {
   "cell_type": "code",
   "execution_count": 4,
   "source": [
    "\r\n",
    "zappa = s3.Bucket(\"zappa-d5a55jhy6\")\r\n",
    "\r\n",
    "for file in zappa.objects.all():\r\n",
    "    print(file.key)"
   ],
   "outputs": [
    {
     "output_type": "stream",
     "name": "stdout",
     "text": [
      "test\n",
      "test.txt\n",
      "test2.txt\n"
     ]
    }
   ],
   "metadata": {}
  },
  {
   "cell_type": "markdown",
   "source": [
    "## Upload a file to an S3 bucket\n",
    "\n",
    "    :param file_name: File to upload\n",
    "    :param bucket: Bucket to upload to\n",
    "    :param object_name: S3 object name. If not specified then file_name is used\n",
    "    \n",
    "https://boto3.amazonaws.com/v1/documentation/api/latest/guide/s3-uploading-files.html"
   ],
   "metadata": {}
  },
  {
   "cell_type": "code",
   "execution_count": 5,
   "source": [
    "data = open('test.txt', 'w+',encoding='utf-8')"
   ],
   "outputs": [],
   "metadata": {}
  },
  {
   "cell_type": "code",
   "execution_count": 6,
   "source": [
    "s3_client = boto3.client('s3')\r\n",
    "file_name = \"test.txt\"\r\n",
    "bucket = \"zappa-d5a55jhy6\"\r\n",
    "# s3_client.upload_file(file_name,bucket,Key=\"test\")\r\n",
    "# s3_client.upload_file(file_name, bucket, object_name)"
   ],
   "outputs": [],
   "metadata": {}
  },
  {
   "cell_type": "code",
   "execution_count": 7,
   "source": [
    "s3_client.upload_file('test2.txt', \"zappa-d5a55jhy6\", 'test2.txt')"
   ],
   "outputs": [],
   "metadata": {}
  },
  {
   "cell_type": "code",
   "execution_count": 8,
   "source": [
    "# with open('test2.txt', 'r',encoding='utf-8') as f:\r\n",
    "#     s3_client.upload_fileobj(f, 'zappa-d5a55jhy6', 'test2.txt')"
   ],
   "outputs": [],
   "metadata": {}
  },
  {
   "cell_type": "code",
   "execution_count": null,
   "source": [
    "# zappa.put_object(Filename='test.txt',Key='test.txt')"
   ],
   "outputs": [],
   "metadata": {}
  },
  {
   "cell_type": "markdown",
   "source": [
    "## Download File"
   ],
   "metadata": {}
  },
  {
   "cell_type": "code",
   "execution_count": 9,
   "source": [
    "import boto3\r\n",
    "# https://boto3.amazonaws.com/v1/documentation/api/latest/guide/s3-example-download-file.html\r\n",
    "s3_client = boto3.client('s3')\r\n",
    "# s3.download_file('BUCKET_NAME', 'OBJECT_NAME', 'FILE_NAME')\r\n",
    "s3_client.download_file('zappa-d5a55jhy6', 'test2.txt','test2.txt')"
   ],
   "outputs": [],
   "metadata": {}
  },
  {
   "cell_type": "code",
   "execution_count": 10,
   "source": [
    "with open('test2.txt') as f:\r\n",
    "    print(f.read())"
   ],
   "outputs": [
    {
     "output_type": "stream",
     "name": "stdout",
     "text": [
      "test2\n"
     ]
    }
   ],
   "metadata": {}
  },
  {
   "cell_type": "code",
   "execution_count": 11,
   "source": [
    "with open('test2b.txt', 'wb') as f:\r\n",
    "    s3_client.download_fileobj('zappa-d5a55jhy6', 'test2.txt', f)"
   ],
   "outputs": [],
   "metadata": {}
  },
  {
   "cell_type": "code",
   "execution_count": 12,
   "source": [
    "with open('test2b.txt') as f:\r\n",
    "    print(f.read())"
   ],
   "outputs": [
    {
     "output_type": "stream",
     "name": "stdout",
     "text": [
      "test2\n"
     ]
    }
   ],
   "metadata": {}
  },
  {
   "cell_type": "markdown",
   "source": [
    "## Weather API"
   ],
   "metadata": {}
  },
  {
   "cell_type": "code",
   "execution_count": 5,
   "source": [
    "import requests as rq\r\n",
    "import json\r\n",
    "r = rq.get(\"https://samples.openweathermap.org/data/2.5/forecast?lat=0&lon=0&appid=xxx\")\r\n",
    "w = r.json()\r\n",
    "w['cod']"
   ],
   "outputs": [
    {
     "output_type": "execute_result",
     "data": {
      "text/plain": [
       "'200'"
      ]
     },
     "metadata": {},
     "execution_count": 5
    }
   ],
   "metadata": {}
  },
  {
   "cell_type": "code",
   "execution_count": 6,
   "source": [
    "l = w['list']\r\n",
    "l[0]"
   ],
   "outputs": [
    {
     "output_type": "execute_result",
     "data": {
      "text/plain": [
       "{'dt': 1485799200,\n",
       " 'main': {'temp': 283.76,\n",
       "  'temp_min': 283.76,\n",
       "  'temp_max': 283.761,\n",
       "  'pressure': 1017.24,\n",
       "  'sea_level': 1026.83,\n",
       "  'grnd_level': 1017.24,\n",
       "  'humidity': 100,\n",
       "  'temp_kf': 0},\n",
       " 'weather': [{'id': 800,\n",
       "   'main': 'Clear',\n",
       "   'description': 'clear sky',\n",
       "   'icon': '01n'}],\n",
       " 'clouds': {'all': 0},\n",
       " 'wind': {'speed': 7.27, 'deg': 15.0048},\n",
       " 'rain': {},\n",
       " 'sys': {'pod': 'n'},\n",
       " 'dt_txt': '2017-01-30 18:00:00'}"
      ]
     },
     "metadata": {},
     "execution_count": 6
    }
   ],
   "metadata": {}
  },
  {
   "cell_type": "code",
   "execution_count": 8,
   "source": [
    "l[0]['main']['temp']"
   ],
   "outputs": [
    {
     "output_type": "execute_result",
     "data": {
      "text/plain": [
       "283.76"
      ]
     },
     "metadata": {},
     "execution_count": 8
    }
   ],
   "metadata": {}
  },
  {
   "cell_type": "code",
   "execution_count": 9,
   "source": [
    "[o['main']['temp'] for o in l]"
   ],
   "outputs": [
    {
     "output_type": "execute_result",
     "data": {
      "text/plain": [
       "[283.76,\n",
       " 282.56,\n",
       " 282.3,\n",
       " 282.27,\n",
       " 282.656,\n",
       " 282.783,\n",
       " 283.335,\n",
       " 284.657,\n",
       " 284.095,\n",
       " 283.211,\n",
       " 284.179,\n",
       " 284.829,\n",
       " 285.702,\n",
       " 285.494,\n",
       " 285.16,\n",
       " 284.161,\n",
       " 282.63,\n",
       " 281.856,\n",
       " 281.978,\n",
       " 283.706,\n",
       " 285.125,\n",
       " 284.755,\n",
       " 283.765,\n",
       " 283.809,\n",
       " 283.788,\n",
       " 283.569,\n",
       " 284.11,\n",
       " 285.034,\n",
       " 286.158,\n",
       " 286.138,\n",
       " 285.952,\n",
       " 285.828,\n",
       " 285.168,\n",
       " 283.818,\n",
       " 283.157,\n",
       " 283.494,\n",
       " 285.263,\n",
       " 285.927,\n",
       " 285.906,\n",
       " 285.51]"
      ]
     },
     "metadata": {},
     "execution_count": 9
    }
   ],
   "metadata": {}
  },
  {
   "cell_type": "code",
   "execution_count": 10,
   "source": [
    "with open('api_key.txt') as f:\r\n",
    "    api_key = f.read()"
   ],
   "outputs": [],
   "metadata": {}
  },
  {
   "cell_type": "code",
   "execution_count": 11,
   "source": [
    "r = rq.get(\"https://api.openweathermap.org/data/2.5/weather?q=Paris&units=metric&appid=\"+api_key)\r\n",
    "temp = r.json()['main']['temp']\r\n",
    "temp"
   ],
   "outputs": [
    {
     "output_type": "execute_result",
     "data": {
      "text/plain": [
       "13.54"
      ]
     },
     "metadata": {},
     "execution_count": 11
    }
   ],
   "metadata": {}
  },
  {
   "cell_type": "code",
   "execution_count": 12,
   "source": [
    "import weather\r\n",
    "\r\n",
    "temp = weather.get_paris_temp(api_key)\r\n",
    "temp"
   ],
   "outputs": [
    {
     "output_type": "execute_result",
     "data": {
      "text/plain": [
       "13.54"
      ]
     },
     "metadata": {},
     "execution_count": 12
    }
   ],
   "metadata": {}
  },
  {
   "cell_type": "code",
   "execution_count": 13,
   "source": [
    "with open(\"weather.txt\", \"w\") as f:\r\n",
    "    f.write(str(temp))"
   ],
   "outputs": [],
   "metadata": {}
  },
  {
   "cell_type": "code",
   "execution_count": 14,
   "source": [
    "import datetime\r\n",
    "t = datetime.datetime.now()\r\n",
    "print(t)\r\n",
    "# t.strftime(\"%X\")"
   ],
   "outputs": [
    {
     "output_type": "stream",
     "name": "stdout",
     "text": [
      "2021-10-02 10:56:21.637911\n"
     ]
    }
   ],
   "metadata": {}
  },
  {
   "cell_type": "code",
   "execution_count": 15,
   "source": [
    "t.strftime(\"%d-%m-%y_%H-%M-%S\")"
   ],
   "outputs": [
    {
     "output_type": "execute_result",
     "data": {
      "text/plain": [
       "'02-10-21_10-56-21'"
      ]
     },
     "metadata": {},
     "execution_count": 15
    }
   ],
   "metadata": {}
  },
  {
   "cell_type": "code",
   "execution_count": 16,
   "source": [
    "t = datetime.datetime.now()\r\n",
    "with open(t.strftime(\"%d-%m-%y_%H-%M-%S\")+\".txt\", \"w\") as f:\r\n",
    "    f.write(str(temp))"
   ],
   "outputs": [],
   "metadata": {}
  },
  {
   "cell_type": "markdown",
   "source": [
    "## Call Flask app locally"
   ],
   "metadata": {}
  },
  {
   "cell_type": "code",
   "execution_count": 15,
   "source": [
    "!export FLASK_APP = app.py\r\n",
    "!flask run"
   ],
   "outputs": [
    {
     "output_type": "stream",
     "name": "stderr",
     "text": [
      "Acc�s refus�.\n"
     ]
    }
   ],
   "metadata": {}
  },
  {
   "cell_type": "code",
   "execution_count": 20,
   "source": [
    "import requests as rq\r\n",
    "r = rq.get(\"http://127.0.0.1:5000/write/\")\r\n",
    "r.status_code,r.text"
   ],
   "outputs": [
    {
     "output_type": "execute_result",
     "data": {
      "text/plain": [
       "(200, 'weather.txt created: 2.55 °C in Paris')"
      ]
     },
     "metadata": {},
     "execution_count": 20
    }
   ],
   "metadata": {}
  },
  {
   "cell_type": "markdown",
   "source": [
    "## Deployed with Zappa"
   ],
   "metadata": {}
  },
  {
   "cell_type": "code",
   "execution_count": 30,
   "source": [
    "import requests as rq\r\n",
    "r = rq.get(\"https://dgpt7b34uf.execute-api.us-east-1.amazonaws.com/dev/write/\")\r\n",
    "r.status_code,r.text"
   ],
   "outputs": [
    {
     "output_type": "execute_result",
     "data": {
      "text/plain": [
       "(500,\n",
       " '<!DOCTYPE HTML PUBLIC \"-//W3C//DTD HTML 3.2 Final//EN\">\\n<title>500 Internal Server Error</title>\\n<h1>Internal Server Error</h1>\\n<p>The server encountered an internal error and was unable to complete your request. Either the server is overloaded or there is an error in the application.</p>\\n')"
      ]
     },
     "metadata": {},
     "execution_count": 30
    }
   ],
   "metadata": {}
  }
 ]
}